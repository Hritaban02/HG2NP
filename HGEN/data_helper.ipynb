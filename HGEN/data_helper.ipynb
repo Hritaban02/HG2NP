{
 "cells": [
  {
   "cell_type": "code",
   "execution_count": 1,
   "metadata": {},
   "outputs": [],
   "source": [
    "import random\n",
    "import numpy as np\n",
    "import pandas as pd\n",
    "import os"
   ]
  },
  {
   "cell_type": "code",
   "execution_count": 2,
   "metadata": {},
   "outputs": [],
   "source": [
    "dataset_name = input(\"Enter the dataset name:\")"
   ]
  },
  {
   "cell_type": "code",
   "execution_count": 3,
   "metadata": {},
   "outputs": [],
   "source": [
    "split_criteria = input(\"Enter the split criteria:\")"
   ]
  },
  {
   "cell_type": "code",
   "execution_count": 4,
   "metadata": {},
   "outputs": [],
   "source": [
    "split_criteria = (split_criteria).split(',') \n",
    "if len(split_criteria)==1:\n",
    "    split_criteria=split_criteria[0]"
   ]
  },
  {
   "cell_type": "code",
   "execution_count": 5,
   "metadata": {},
   "outputs": [],
   "source": [
    "dataset_title = dataset_name\n",
    "if isinstance(split_criteria, str):\n",
    "    dataset_title+=\"_\"\n",
    "    dataset_title+=split_criteria\n",
    "if isinstance(split_criteria, list):\n",
    "    dataset_title+=\"_\"\n",
    "    for s in split_criteria:\n",
    "        dataset_title+=\"_\"\n",
    "        dataset_title+=s"
   ]
  },
  {
   "cell_type": "code",
   "execution_count": 6,
   "metadata": {},
   "outputs": [],
   "source": [
    "def movie_genre(genres):\n",
    "    for genre in genres.split('|'):\n",
    "        if genre == 'Action':\n",
    "            return 0\n",
    "        elif genre == 'Comedy':\n",
    "            return 1\n",
    "        elif genre == 'Drama':\n",
    "            return 2\n",
    "        else:\n",
    "            return 3"
   ]
  },
  {
   "cell_type": "code",
   "execution_count": 7,
   "metadata": {},
   "outputs": [],
   "source": [
    "# Pre-processing IMDB dataset\n",
    "mat = pd.read_csv('IMDB_movie/movie_metadata.csv')\n",
    "mat['movie_genre'] = mat['genres'].apply(movie_genre)"
   ]
  },
  {
   "cell_type": "code",
   "execution_count": 8,
   "metadata": {},
   "outputs": [],
   "source": [
    "if isinstance(split_criteria, str):\n",
    "    split_criteria_ = [split_criteria]\n",
    "else:\n",
    "    split_criteria_ = split_criteria\n",
    "split_criteria_ = [x.replace('movie', 'movie_genre') for x in split_criteria_]\n",
    "split_criteria_ = [x.replace('year', 'title_year') for x in split_criteria_]"
   ]
  },
  {
   "cell_type": "code",
   "execution_count": 9,
   "metadata": {},
   "outputs": [],
   "source": [
    "gb = mat.groupby(split_criteria_)\n",
    "key, grp = max(gb, key=lambda x: x[1].shape)\n",
    "mat = grp"
   ]
  },
  {
   "cell_type": "code",
   "execution_count": 10,
   "metadata": {},
   "outputs": [],
   "source": [
    "d_names, m_names, a_names = list(mat.director_name), list(mat.movie_title), list(mat.actor_1_name)\n",
    "names = set(d_names+m_names+a_names)\n",
    "names.discard(np.nan)\n",
    "names = list(names)\n",
    "indices = list(range(len(names)))\n",
    "name_dir = dict(zip(names, indices))"
   ]
  },
  {
   "cell_type": "code",
   "execution_count": 11,
   "metadata": {},
   "outputs": [],
   "source": [
    "os.makedirs(f'{dataset_title}/', exist_ok=True)\n",
    "\n",
    "for index, row in mat.iterrows():\n",
    "    try:\n",
    "        d_name = str(name_dir[row.director_name])\n",
    "        a_name = str(name_dir[row.actor_1_name])\n",
    "        m_name = str(name_dir[row.movie_title])\n",
    "    \n",
    "        with open(f'{dataset_title}/link.dat', 'a') as w:\n",
    "            w.writelines(m_name+' '+d_name+'\\n')\n",
    "            w.writelines(d_name+' '+m_name+'\\n')\n",
    "            w.writelines(m_name+' '+a_name+'\\n')\n",
    "            w.writelines(a_name+' '+m_name+'\\n')\n",
    "            \n",
    "    except:\n",
    "        continue\n",
    "\n",
    "with open(f'{dataset_title}/node.dat', 'a') as w:\n",
    "    for i, x in enumerate(names):\n",
    "        if x in d_names:\n",
    "            w.writelines(str(i)+' D'+' 0\\n')\n",
    "        elif x in m_names:\n",
    "            w.writelines(str(i)+' M'+' 1\\n')\n",
    "        elif x in a_names:\n",
    "            w.writelines(str(i)+' A'+' 2\\n')\n",
    "    "
   ]
  }
 ],
 "metadata": {
  "kernelspec": {
   "display_name": "MTP_108",
   "language": "python",
   "name": "python3"
  },
  "language_info": {
   "codemirror_mode": {
    "name": "ipython",
    "version": 3
   },
   "file_extension": ".py",
   "mimetype": "text/x-python",
   "name": "python",
   "nbconvert_exporter": "python",
   "pygments_lexer": "ipython3",
   "version": "3.11.5"
  }
 },
 "nbformat": 4,
 "nbformat_minor": 2
}
